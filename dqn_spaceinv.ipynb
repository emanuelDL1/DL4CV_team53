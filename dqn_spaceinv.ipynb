{
 "cells": [
  {
   "cell_type": "markdown",
   "metadata": {},
   "source": [
    "Simple DQN for Space Invaders\n",
    "==============================\n",
    "\n",
    "We will train a simple DQN for the SpaceInvaders environment of openAI gym.\n",
    "First, let's import some packages."
   ]
  },
  {
   "cell_type": "code",
   "execution_count": 1,
   "metadata": {},
   "outputs": [
    {
     "name": "stderr",
     "output_type": "stream",
     "text": [
      "[2018-01-05 10:55:30,095] Making new env: SpaceInvaders-v0\n"
     ]
    }
   ],
   "source": [
    "# load required packages\n",
    "import gym\n",
    "import math\n",
    "import random\n",
    "import numpy as np\n",
    "import matplotlib.pyplot as plt\n",
    "from collections import namedtuple\n",
    "from itertools import count\n",
    "from PIL import Image\n",
    "\n",
    "import torch\n",
    "import torch.nn as nn\n",
    "import torch.optim as optim\n",
    "import torch.nn.functional as F\n",
    "from torch.autograd import Variable\n",
    "import torchvision.transforms as T\n",
    "\n",
    "\n",
    "# create the environment\n",
    "env = gym.make('SpaceInvaders-v0').unwrapped\n",
    "actionsDim = 6 # number of actions for this environment\n",
    "\n",
    "# if gpu is to be used\n",
    "use_cuda = torch.cuda.is_available()\n",
    "FloatTensor = torch.cuda.FloatTensor if use_cuda else torch.FloatTensor\n",
    "LongTensor = torch.cuda.LongTensor if use_cuda else torch.LongTensor\n",
    "ByteTensor = torch.cuda.ByteTensor if use_cuda else torch.ByteTensor\n",
    "Tensor = FloatTensor"
   ]
  },
  {
   "cell_type": "markdown",
   "metadata": {},
   "source": [
    "Replay Memory\n",
    "---------------------\n",
    "\n",
    "The first thing we will need to train our DQN is a so-called replay memory.\n",
    "This is a buffer that stores the states, actions and rewards our agent experiences\n",
    "as it interacts with the environment. By sampling data from this memory, we can\n",
    "create the batches we need to train our model. The sampling must be random, otherwise\n",
    "our data will be correlated, and the performance would decrease.\n",
    "\n",
    "For this, we're going to need two classses:\n",
    "\n",
    "-  ``Transition`` - a named tuple representing a single transition in\n",
    "   our environment\n",
    "-  ``ReplayMemory`` - a cyclic buffer of bounded size that holds the\n",
    "   transitions observed recently. It also implements a ``.sample()``\n",
    "   method for selecting a random batch of transitions for training."
   ]
  },
  {
   "cell_type": "code",
   "execution_count": 2,
   "metadata": {},
   "outputs": [],
   "source": [
    "Transition = namedtuple('Transition',\n",
    "                        ('state', 'action', 'next_state', 'reward'))\n",
    "\n",
    "\n",
    "class ReplayMemory(object):\n",
    "\n",
    "    def __init__(self, capacity):\n",
    "        self.capacity = capacity\n",
    "        self.memory = []\n",
    "        self.position = 0\n",
    "\n",
    "    def push(self, *args):\n",
    "        \"\"\"Saves a transition.\"\"\"\n",
    "        if len(self.memory) < self.capacity:\n",
    "            self.memory.append(None)\n",
    "        self.memory[self.position] = Transition(*args)\n",
    "        self.position = (self.position + 1) % self.capacity\n",
    "\n",
    "    def sample(self, batch_size):\n",
    "        return random.sample(self.memory, batch_size)\n",
    "\n",
    "    def __len__(self):\n",
    "        return len(self.memory)"
   ]
  },
  {
   "cell_type": "markdown",
   "metadata": {},
   "source": [
    "DQN model\n",
    "-------------\n",
    "\n",
    "The name DQN stands for \"Deep Q Network\". It is a network that tries to learn the so-called $Q$ function of our environment. The Q function, $Q^\\pi(s,a)$, gives us the expected total reward, when we are in state $s$, do action $a$, and then follow policy $\\pi$ afterwards.<br>\n",
    "From RL, it can be shown that the $Q^*$ function of the optimal (best) policy we are looking for, will satisfy the following equation:\n",
    "\n",
    "\\begin{align}Q^*(s,a) = r + \\gamma \\max_a Q^*(s',a)\\end{align}\n",
    "\n",
    "The difference between the two sides is called $\\delta$. The goal of our network is to minimize it, in order to determine the optimal Q function, with which, we can then determining the optimal policy, by finding the action that maximizes the Q function of a given state.<br>\n",
    "To train the network, we use the Huber loss, which has been shown to be more robust against noisy samples that the simple quadratic loss. The data we will use will come from the replay memory.<br>\n",
    "For the model, we use a CNN, so that we can feed the image directly as a state to the network. We use three conv layers with batchnorm, together with a final linear layer to compute the scores. The output is the Q function of the input state, for all possible actions."
   ]
  },
  {
   "cell_type": "code",
   "execution_count": 3,
   "metadata": {},
   "outputs": [],
   "source": [
    "# define the model we will be using\n",
    "        \n",
    "class DQN(nn.Module):\n",
    "\n",
    "    def __init__(self, input_dim = (3,50,50), kernel_size = 5, stride = 2, pad = 0, num_classes = actionsDim):\n",
    "        # a simple dqn network. We use three conv layers with batch norm,\n",
    "        # and a final linear layer (we don't need softmax). The outputs\n",
    "        # will be the Q funtion for each possible action. We use 16 and\n",
    "        # 32 filters, with kernel size 5 and stride 2.\n",
    "        super(DQN, self).__init__()\n",
    "        # get input dims\n",
    "        C, H, W = input_dim\n",
    "        # layer 1: conv layer\n",
    "        self.conv1 = nn.Conv2d(C, 16, kernel_size=kernel_size, stride=stride, padding = (pad,pad))\n",
    "        self.bn1 = nn.BatchNorm2d(16)\n",
    "        # update params\n",
    "        H = int((H + 2*pad - kernel_size) / stride + 1)\n",
    "        W = int((W + 2*pad - kernel_size) / stride + 1)\n",
    "        C = 16\n",
    "        # layer 2: conv\n",
    "        self.conv2 = nn.Conv2d(16, 32, kernel_size=kernel_size, stride=stride, padding = (pad,pad))\n",
    "        self.bn2 = nn.BatchNorm2d(32)\n",
    "        # update params\n",
    "        H = int((H + 2*pad - kernel_size) / stride + 1)\n",
    "        W = int((W + 2*pad - kernel_size) / stride + 1)\n",
    "        C = 32\n",
    "        # layer 3: conv\n",
    "        self.conv3 = nn.Conv2d(32, 32, kernel_size=kernel_size, stride=stride, padding = (pad,pad))\n",
    "        self.bn3 = nn.BatchNorm2d(32)\n",
    "        # update params\n",
    "        H = int((H + 2*pad - kernel_size) / stride + 1)\n",
    "        W = int((W + 2*pad - kernel_size) / stride + 1)\n",
    "        C = 32\n",
    "        # layer 4: linear     \n",
    "        self.head = nn.Linear(H*W*C, num_classes)\n",
    "\n",
    "    def forward(self, x):\n",
    "        x = F.relu(self.bn1(self.conv1(x)))\n",
    "        x = F.relu(self.bn2(self.conv2(x)))\n",
    "        x = F.relu(self.bn3(self.conv3(x)))\n",
    "        return self.head(x.view(x.size(0), -1))"
   ]
  },
  {
   "cell_type": "markdown",
   "metadata": {},
   "source": [
    "Extracting the Input\n",
    "-----------------------------------------\n",
    "To train the network, we must be able to extract snapshots from the environment. We do that with the following function, which gets a snapshot from gym, transforms it to a square image of given size, and then to a pytorch tensor."
   ]
  },
  {
   "cell_type": "code",
   "execution_count": 4,
   "metadata": {},
   "outputs": [],
   "source": [
    "# Input extraction\n",
    "        \n",
    "# Define an image transformation\n",
    "myTransform = T.Compose([T.ToPILImage(),\n",
    "                    T.Resize([50,50], interpolation=Image.CUBIC),\n",
    "                    #T.Grayscale(),\n",
    "                    T.ToTensor()])\n",
    "    \n",
    "# a function to grab an image from the environment\n",
    "def get_screen():\n",
    "    # take a snapshot and transpose into torch order (CHW)    \n",
    "    screen = env.render(mode='rgb_array').transpose((2, 0, 1))\n",
    "    # Convert to float, risize, grayscale, convert to torch tensor\n",
    "    # (this doesn't require a copy)\n",
    "    screen = np.ascontiguousarray(screen, dtype=np.float32) / 255\n",
    "    screen = torch.from_numpy(screen)\n",
    "    # Resize, and add a batch dimension (BCHW)\n",
    "    return myTransform(screen).unsqueeze(0).type(Tensor)"
   ]
  },
  {
   "cell_type": "markdown",
   "metadata": {},
   "source": [
    "Hyperparameters, etc.\n",
    "-------------------------------------\n",
    "In this section, we define the hyperparameters for our model, and a policy function, that uses the model to find the next action, given the state. We use an e-greedy policy, with $\\epsilon$ decaying to zero exponentially."
   ]
  },
  {
   "cell_type": "code",
   "execution_count": 5,
   "metadata": {},
   "outputs": [
    {
     "name": "stdout",
     "output_type": "stream",
     "text": [
      "Pretrained weights loaded\n"
     ]
    }
   ],
   "source": [
    "# hyperparams and other utilities\n",
    "    \n",
    "BATCH_SIZE = 128\n",
    "GAMMA = 0.999\n",
    "EPS_START = 0.9\n",
    "EPS_END = 0.05\n",
    "EPS_DECAY = 200\n",
    "# path to save model weiths\n",
    "PATH = 'myModel_SpaceInv'\n",
    "\n",
    "# build the model\n",
    "model = DQN()\n",
    "\n",
    "if use_cuda:\n",
    "    model.cuda()\n",
    "    \n",
    "# load pretrained weights, if they exist\n",
    "try:\n",
    "    model.load_state_dict(torch.load(PATH))\n",
    "    print('Pretrained weights loaded')\n",
    "except:\n",
    "    print('No pretrained weights avaiable, or weights dont match')\n",
    "\n",
    "# build the optimizer\n",
    "optimizer = optim.RMSprop(model.parameters())\n",
    "# initialize the replay memory\n",
    "memory = ReplayMemory(10000)\n",
    "\n",
    "\n",
    "steps_done = 0\n",
    "\n",
    "\n",
    "def select_action(state):\n",
    "    # selects an action based on an e-greedy policy\n",
    "    # epsilon decays exponentionally towards zero, so that our\n",
    "    # policy becomes greedy as time passes\n",
    "    global steps_done\n",
    "    sample = random.random()\n",
    "    eps_threshold = EPS_END + (EPS_START - EPS_END) * math.exp(-1. * steps_done / EPS_DECAY)\n",
    "    steps_done += 1\n",
    "    if sample > eps_threshold:\n",
    "        return model(\n",
    "            Variable(state, volatile=True).type(FloatTensor)).data.max(1)[1].view(1, 1)\n",
    "    else:\n",
    "        return LongTensor([[random.randrange(actionsDim)]])\n",
    "\n",
    "\n",
    "episode_durations = []"
   ]
  },
  {
   "cell_type": "markdown",
   "metadata": {},
   "source": [
    "Model Optimizer\n",
    "-----------------------------\n",
    "This function optimizes our model, by computing the Huber loss and then backporpagating. Notice that we need to compute two network outputs (for the current state and the next - expected state) to calculate the Huber loss."
   ]
  },
  {
   "cell_type": "code",
   "execution_count": 6,
   "metadata": {},
   "outputs": [],
   "source": [
    "# function to train the model\n",
    "        \n",
    "def optimize_model():\n",
    "    if len(memory) < BATCH_SIZE:\n",
    "        return\n",
    "    # get a batch from replay memory\n",
    "    transitions = memory.sample(BATCH_SIZE)\n",
    "    # Transpose the batch (see http://stackoverflow.com/a/19343/3343043 for\n",
    "    # detailed explanation).\n",
    "    batch = Transition(*zip(*transitions))\n",
    "    # extract states, actions and rewards in the batch\n",
    "    state_batch = Variable(torch.cat(batch.state))\n",
    "    action_batch = Variable(torch.cat(batch.action))\n",
    "    reward_batch = Variable(torch.cat(batch.reward))\n",
    "    # Compute Q(s_t, a) - the model computes Q(s_t) for all actions,\n",
    "    # then we select the columns of actions taken\n",
    "    state_action_values = model(state_batch).gather(1, action_batch)\n",
    "\n",
    "    # Compute a mask of non-final states\n",
    "    non_final_mask = ByteTensor(tuple(map(lambda s: s is not None,\n",
    "                                          batch.next_state)))\n",
    "\n",
    "    # get the next states that are not final states (None)\n",
    "    non_final_next_states = Variable(torch.cat([s for s in batch.next_state\n",
    "                                                if s is not None]),\n",
    "                                     volatile=True)\n",
    "\n",
    "    # Compute max Q(s',a) for all non-final next states (rest are zeros)\n",
    "    next_state_values = Variable(torch.zeros(BATCH_SIZE).type(Tensor))\n",
    "    next_state_values[non_final_mask] = model(non_final_next_states).max(1)[0]\n",
    "    # set volatile to false, so that we don't backprop through the next\n",
    "    # states (the DQN's inputs are the current states-actions)\n",
    "    next_state_values.volatile = False\n",
    "    \n",
    "    # Compute the expected Q values\n",
    "    expected_state_action_values = (next_state_values * GAMMA) + reward_batch\n",
    "\n",
    "    # Compute Huber loss\n",
    "    loss = F.smooth_l1_loss(state_action_values, expected_state_action_values)\n",
    "\n",
    "    # Optimize the model\n",
    "    optimizer.zero_grad()\n",
    "    loss.backward()\n",
    "    for param in model.parameters():\n",
    "        # gradient clipping\n",
    "        param.grad.data.clamp_(-1, 1)\n",
    "    optimizer.step()"
   ]
  },
  {
   "cell_type": "markdown",
   "metadata": {},
   "source": [
    "Train\n",
    "------------------------------\n",
    "We run episodes with the environment to train the model. Until each episode finishes, we store the transitions in the replay memory, and use them for training. We do a batch training step after each time-step, and not all together after the episode. This could improve performance."
   ]
  },
  {
   "cell_type": "code",
   "execution_count": 7,
   "metadata": {},
   "outputs": [
    {
     "name": "stdout",
     "output_type": "stream",
     "text": [
      "Episode no. 0, duration: 510\n",
      "Episode no. 1, duration: 679\n",
      "Complete\n"
     ]
    },
    {
     "data": {
      "image/png": "[encoded data removed]",
      "text/plain": [
       "<matplotlib.figure.Figure at 0x7fec687a4780>"
      ]
     },
     "metadata": {},
     "output_type": "display_data"
    }
   ],
   "source": [
    "# run some episodes and train the model!\n",
    "    \n",
    "num_episodes = 2 # in reality, this must be thousands!\n",
    "for i_episode in range(num_episodes):\n",
    "    # Initialize the environment and state\n",
    "    env.reset()\n",
    "    last_screen = get_screen()\n",
    "    current_screen = get_screen()\n",
    "    # the state is the difference image between current and prev screens\n",
    "    # this trick captures also the velocities of various objects\n",
    "    state = current_screen - last_screen\n",
    "    for t in count():\n",
    "        # Select and perform an action\n",
    "        action = select_action(state)\n",
    "        _, reward, done, _ = env.step(action[0, 0])\n",
    "        reward = Tensor([reward])\n",
    "\n",
    "        # Observe new state\n",
    "        last_screen = current_screen\n",
    "        current_screen = get_screen()\n",
    "        if not done:\n",
    "            next_state = current_screen - last_screen\n",
    "        else:\n",
    "            next_state = None\n",
    "\n",
    "        # Store the transition in memory\n",
    "        memory.push(state, action, next_state, reward)\n",
    "\n",
    "        # Move to the next state\n",
    "        state = next_state\n",
    "\n",
    "        # Perform one step of the optimization (on the target network)\n",
    "        # we optimize the network in place, not after the episodes\n",
    "        optimize_model()\n",
    "        if done:\n",
    "            episode_durations.append(t + 1)\n",
    "            # plot_durations()\n",
    "            print('Episode no. ' + str(i_episode)+', duration: ' + str(t+1))\n",
    "            break\n",
    "\n",
    "print('Complete')\n",
    "plt.plot(list(range(len(episode_durations))), episode_durations)\n",
    "plt.xlabel('Episode')\n",
    "plt.ylabel('duration')\n",
    "plt.title('Episode duration during training')\n",
    "plt.show()\n",
    "# store weights\n",
    "torch.save(model.state_dict(), PATH)"
   ]
  },
  {
   "cell_type": "markdown",
   "metadata": {},
   "source": [
    "Simulation\n",
    "------------------------------\n",
    "Finally, we run one episode with the trained model live on the gym environment to see what it learned."
   ]
  },
  {
   "cell_type": "code",
   "execution_count": 8,
   "metadata": {},
   "outputs": [
    {
     "name": "stdout",
     "output_type": "stream",
     "text": [
      "Press any key to close program...\n",
      "The duration of this episode was: 663\n"
     ]
    }
   ],
   "source": [
    "# run trained model on a sample episode\n",
    "\n",
    "done = False\n",
    "t = 0 \n",
    "env.reset()\n",
    "last_screen = get_screen()\n",
    "current_screen = get_screen()\n",
    "state = current_screen - last_screen\n",
    "while not done:\n",
    "    env.render()\n",
    "    t += 1\n",
    "    last_screen = get_screen()\n",
    "    # Select and perform an action\n",
    "    action = select_action(state)\n",
    "    _, reward, done, _ = env.step(action[0, 0])\n",
    "    reward = Tensor([reward])\n",
    "\n",
    "    # Observe new state\n",
    "    last_screen = current_screen\n",
    "    current_screen = get_screen()\n",
    "    if not done:\n",
    "        next_state = current_screen - last_screen\n",
    "    else:\n",
    "        next_state = None\n",
    "\n",
    "    # Move to the next state\n",
    "    state = next_state\n",
    "# we're done\n",
    "input('Press any key to close program...')\n",
    "env.render(close=True)\n",
    "env.close()\n",
    "print('The duration of this episode was: ' + str(t))   "
   ]
  },
  {
   "cell_type": "code",
   "execution_count": null,
   "metadata": {},
   "outputs": [],
   "source": []
  }
 ],
 "metadata": {
  "kernelspec": {
   "display_name": "Python 3",
   "language": "python",
   "name": "python3"
  },
  "language_info": {
   "codemirror_mode": {
    "name": "ipython",
    "version": 3
   },
   "file_extension": ".py",
   "mimetype": "text/x-python",
   "name": "python",
   "nbconvert_exporter": "python",
   "pygments_lexer": "ipython3",
   "version": "3.5.4"
  }
 },
 "nbformat": 4,
 "nbformat_minor": 2
}
